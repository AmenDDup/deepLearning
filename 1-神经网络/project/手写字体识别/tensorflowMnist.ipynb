{
 "cells": [
  {
   "cell_type": "code",
   "execution_count": null,
   "metadata": {},
   "outputs": [],
   "source": [
    "import tensorflow as tf\n",
    "from tensorflow.examples.tutorials.mnist import input_data\n",
    "\n",
    "# 读取数据\n",
    "mnist = input_data.read_data_sets('/MNIST/', one_hot=True)\n",
    "\n",
    "# 设置参数\n",
    "numClasses = 10 # 十分类任务\n",
    "inputSize = 784 # 输入参数大小 28*28*1\n",
    "numHiddenUnits = 64 # 隐藏神经元个数\n",
    "trainingIterations = 10000 # 迭代次数\n",
    "batchSize = 64\n",
    "X = tf.placeholder(tf.float32, shape=[None, inputSize]) # 输入\n",
    "y = tf.placeholder(tf.float32, shape=[None, numClasses]) # 输出\n",
    "\n",
    "# 参数初始化，权重W1,W2，偏置参数B1,B2\n",
    "W1 = tf.Variable(tf.truncated_normal([inputSize, numHiddenUnits], stddev=0.1))\n",
    "B1 = tf.Variable(tf.constant(0.1), [numHiddenUnits])\n",
    "W2 = tf.Variable(tf.truncated_normal([numHiddenUnits, numClasses], stddev=0.1))\n",
    "B2 = tf.Variable(tf.constant(0.1), [numClasses])\n",
    "\n",
    "# 从前到后计算\n",
    "hiddenLayerOutput = tf.matmul(X, W1) + B1\n",
    "hiddenLayerOutput = tf.nn.relu(hiddenLayerOutput) # 激活函数relu\n",
    "finalOutput = tf.matmul(hiddenLayerOutput, W2) + B2\n",
    "# 对数损失函数\n",
    "loss = tf.reduce_mean(tf.nn.softmax_cross_entropy_with_logits_v2(labels=y, logits=finalOutput))\n",
    "# 优化器计算梯度进行更新\n",
    "opt = tf.train.GradientDescentOptimizer(learning_rate=.1).minimize(loss)\n",
    "# 准确率计算\n",
    "correct_prediction = tf.equal(tf.argmax(finalOutput, 1), tf.argmax(y, 1))\n",
    "accuracy = tf.reduce_mean(tf.cast(correct_prediction, \"float\"))\n",
    "\n",
    "\n",
    "# 迭代优化\n",
    "sess = tf.Session()\n",
    "init = tf.global_variables_initializer()\n",
    "sess.run(init)\n",
    "for i in range(trainingIterations):\n",
    "    batch = mnist.train.next_batch(batchSize)\n",
    "    batchInput = batch[0]\n",
    "    batchLabels = batch[1]\n",
    "    _, trainingLoss = sess.run([opt, loss], feed_dict={X: batchInput, y: batchLabels})\n",
    "    if i % 100 == 0:\n",
    "        trainAccuracy = accuracy.eval(session=sess, feed_dict={X: batchInput, y: batchLabels})\n",
    "        print(\"step %d, training accuracy %g\" % (i, trainAccuracy))"
   ]
  }
 ],
 "metadata": {
  "kernelspec": {
   "display_name": "Python 3",
   "language": "python",
   "name": "python3"
  },
  "language_info": {
   "codemirror_mode": {
    "name": "ipython",
    "version": 3
   },
   "file_extension": ".py",
   "mimetype": "text/x-python",
   "name": "python",
   "nbconvert_exporter": "python",
   "pygments_lexer": "ipython3",
   "version": "3.7.0"
  }
 },
 "nbformat": 4,
 "nbformat_minor": 2
}
